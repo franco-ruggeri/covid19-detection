{
  "nbformat": 4,
  "nbformat_minor": 0,
  "metadata": {
    "colab": {
      "name": "covid19-project.ipynb",
      "provenance": [],
      "collapsed_sections": []
    },
    "kernelspec": {
      "name": "python3",
      "display_name": "Python 3"
    },
    "accelerator": "GPU"
  },
  "cells": [
    {
      "cell_type": "code",
      "metadata": {
        "id": "HzWZeb9X8Obn",
        "colab_type": "code",
        "colab": {
          "base_uri": "https://localhost:8080/",
          "height": 124
        },
        "outputId": "0abf6270-b45a-4aa3-d953-396298fe7c9d"
      },
      "source": [
        "#@title Mount drive\n",
        "\n",
        "from google.colab import drive\n",
        "drive.mount('/content/gdrive/')"
      ],
      "execution_count": 1,
      "outputs": [
        {
          "output_type": "stream",
          "text": [
            "Go to this URL in a browser: https://accounts.google.com/o/oauth2/auth?client_id=947318989803-6bn6qk8qdgf4n4g3pfee6491hc0brc4i.apps.googleusercontent.com&redirect_uri=urn%3aietf%3awg%3aoauth%3a2.0%3aoob&scope=email%20https%3a%2f%2fwww.googleapis.com%2fauth%2fdocs.test%20https%3a%2f%2fwww.googleapis.com%2fauth%2fdrive%20https%3a%2f%2fwww.googleapis.com%2fauth%2fdrive.photos.readonly%20https%3a%2f%2fwww.googleapis.com%2fauth%2fpeopleapi.readonly&response_type=code\n",
            "\n",
            "Enter your authorization code:\n",
            "··········\n",
            "Mounted at /content/gdrive/\n"
          ],
          "name": "stdout"
        }
      ]
    },
    {
      "cell_type": "code",
      "metadata": {
        "id": "FYVGm-Gc8tPo",
        "colab_type": "code",
        "colab": {
          "base_uri": "https://localhost:8080/",
          "height": 522
        },
        "cellView": "both",
        "outputId": "abdb7d64-ff1b-4dc1-a224-3b3e9e6b8505"
      },
      "source": [
        "#@title Train and evaluate\n",
        "\n",
        "import matplotlib.pyplot as plt\n",
        "import numpy as np\n",
        "import seaborn as sns\n",
        "import tensorflow as tf\n",
        "from pathlib import Path\n",
        "from tensorflow.keras.preprocessing.image import ImageDataGenerator\n",
        "from tensorflow.keras import Input, Model\n",
        "from tensorflow.keras.layers import Dense\n",
        "from tensorflow.keras.applications import ResNet50V2\n",
        "from tensorflow.keras.applications.resnet_v2 import preprocess_input\n",
        "from tensorflow.keras.optimizers import Adam\n",
        "from tensorflow.keras.losses import CategoricalCrossentropy\n",
        "from tensorflow.keras.callbacks import ModelCheckpoint, TensorBoard\n",
        "from tensorflow.keras.models import load_model\n",
        "from sklearn.metrics import classification_report, confusion_matrix\n",
        "\n",
        "IMAGE_SHAPE = (224, 224)\n",
        "INPUT_SHAPE = IMAGE_SHAPE + (3,)\n",
        "AUTO_TUNE = tf.data.experimental.AUTOTUNE\n",
        "\n",
        "\n",
        "def _get_dataset(dataset_path):\n",
        "    dataset_get = ImageDataGenerator()\n",
        "    dataset = dataset_get.flow_from_directory(dataset_path, target_size=IMAGE_SHAPE)\n",
        "    return dataset\n",
        "\n",
        "\n",
        "def _plot_learning_curves(model_path, history, history_ft=None):\n",
        "    if history_ft is not None:\n",
        "        history.history['accuracy'] += history_ft.history['accuracy']\n",
        "        history.history['loss'] += history_ft.history['loss']\n",
        "        history.history['val_accuracy'] += history_ft.history['val_accuracy']\n",
        "        history.history['val_loss'] += history_ft.history['val_loss']\n",
        "\n",
        "    plt.plot(history.history['accuracy'], label='training')\n",
        "    plt.plot(history.history['val_accuracy'], label='validation')\n",
        "    plt.xlabel('epoch')\n",
        "    plt.ylabel('accuracy')\n",
        "    if history_ft is not None:\n",
        "        plt.plot([history.epoch[-1], history.epoch[-1]], plt.ylim(), label='start fine-tuning')\n",
        "    plt.legend()\n",
        "    plt.savefig(model_path.with_name(model_path.stem + '_acc').with_suffix('.png'))\n",
        "\n",
        "    plt.figure()\n",
        "    plt.plot(history.history['loss'], label='training')\n",
        "    plt.plot(history.history['val_loss'], label='validation')\n",
        "    plt.xlabel('epoch')\n",
        "    plt.ylabel('loss')\n",
        "    if history_ft is not None:\n",
        "        plt.plot([history.epoch[-1], history.epoch[-1]], plt.ylim(), label='start fine-tuning')\n",
        "    plt.legend()\n",
        "    plt.savefig(model_path.with_name(model_path.stem + '_loss').with_suffix('.png'))\n",
        "    plt.show()\n",
        "\n",
        "\n",
        "def train(dataset_path, model_path, logs_path):\n",
        "    # build input pipeline\n",
        "    train_ds = _get_dataset(dataset_path / 'train')\n",
        "    val_ds = _get_dataset(dataset_path / 'validation')\n",
        "    n_classes = train_ds.num_classes\n",
        "\n",
        "    # build model\n",
        "    feature_extractor = ResNet50V2(include_top=False, pooling='avg', input_shape=INPUT_SHAPE)\n",
        "    inputs = Input(shape=INPUT_SHAPE)\n",
        "    x = preprocess_input(inputs)\n",
        "    x = feature_extractor(x, training=False)  # training=False to keep BN layers in inference mode when unfrozen\n",
        "    outputs = Dense(n_classes)(x)\n",
        "    model = Model(inputs, outputs)\n",
        "\n",
        "    # training settings\n",
        "    lr = 0.0001\n",
        "    lr_ft = lr / 10\n",
        "    epochs = 20\n",
        "    epochs_ft = epochs + 10\n",
        "    metrics = ['accuracy']\n",
        "    loss = CategoricalCrossentropy(from_logits=True)\n",
        "    model_path_checkpoint = model_path.with_name(model_path.stem + '-{epoch:02d}-{val_accuracy:.2f}' + model_path.suffix)\n",
        "    callbacks = [\n",
        "        ModelCheckpoint(filepath=model_path_checkpoint, monitor='val_accuracy', mode='max', verbose=2),\n",
        "        # TensorBoard(log_dir=logs_path)\n",
        "    ]\n",
        "\n",
        "    # train only top layer (feature extraction with pre-trained convolutional base)\n",
        "    feature_extractor.trainable = False\n",
        "    model.compile(optimizer=Adam(lr=lr), loss=loss, metrics=metrics)\n",
        "    model.summary()\n",
        "    history = model.fit(train_ds, epochs=epochs, validation_data=val_ds, callbacks=callbacks)\n",
        "    _plot_learning_curves(model_path, history)\n",
        "\n",
        "    # fine-tune some layers\n",
        "    fine_tune_at = 20\n",
        "    feature_extractor.trainable = True\n",
        "    for layer in feature_extractor.layers[:fine_tune_at]:\n",
        "        layer.trainable = False\n",
        "    model.compile(optimizer=Adam(lr=lr_ft), loss=loss, metrics=metrics)\n",
        "    model.summary()\n",
        "    history_ft = model.fit(train_ds, epochs=epochs_ft, initial_epoch=epochs, validation_data=val_ds,\n",
        "                           callbacks=callbacks)\n",
        "    _plot_learning_curves(model_path, history, history_ft)\n",
        "    model.save(model_path)\n",
        "\n",
        "\n",
        "def evaluate(dataset_path, model_path):\n",
        "    model = load_model(model_path)\n",
        "    test_ds = _get_dataset(dataset_path / 'test')\n",
        "    class_names = sorted(test_ds.class_indices.keys())\n",
        "\n",
        "    # predictions\n",
        "    probabilities = model.predict(test_ds)\n",
        "    predictions = np.argmax(probabilities, axis=1)\n",
        "\n",
        "    # confusion matrix\n",
        "    cm = confusion_matrix(test_ds.classes, predictions, normalize='true')\n",
        "    plt.figure()\n",
        "    sns.heatmap(cm, annot=True, fmt=\".1%\", xticklabels=class_names, yticklabels=class_names, cmap='Reds')\n",
        "    plt.ylabel('Ground truth')\n",
        "    plt.xlabel('Predicted label')\n",
        "    plt.savefig(model_path.with_name(model_path.stem + '_cm').with_suffix('.png'))\n",
        "    plt.show()\n",
        "\n",
        "    # precision, recall, f1-score, accuracy, etc.\n",
        "    cr = classification_report(test_ds.classes, predictions, target_names=class_names)\n",
        "    print('Classification report')\n",
        "    print(cr)\n",
        "    with open(model_path.with_name(model_path.stem + '_cr').with_suffix('.txt'), mode='w') as f:\n",
        "        f.write(cr)\n",
        "\n",
        "\n",
        "# prepare paths\n",
        "dataset_path = Path('/content/gdrive/My Drive/DL/COVID19-project/COVIDx')\n",
        "model_path = Path('/content/gdrive/My Drive/DL/COVID19-project/models/resnet50v2_basic/resnet50v2_basic')\n",
        "model_path = model_path.with_suffix('.h5')\n",
        "logs_path = Path('/content/gdrive/My Drive/DL/COVID19-project/logs')\n",
        "model_path.parent.mkdir(parents=True, exist_ok=True)\n",
        "logs_path.mkdir(parents=True, exist_ok=True)\n",
        "\n",
        "# train and evaluate model\n",
        "if not model_path.is_file():\n",
        "    train(dataset_path, model_path, logs_path)\n",
        "evaluate(dataset_path, model_path)\n",
        "\n",
        "# TODO: add data augmentation -> over-fitting should be reduced (i.e. test accuracy should improve)\n",
        "# TODO: add resampling -> confusion matrix should improve\n",
        "# TODO: add metric for cross-validation, val_acc is not adequate due to the imbalance (e.g. f1 score, but we have\n",
        "#  3 classes..., google it)\n",
        "# TODO: add grad-cam\n",
        "# TODO: add COVID-Net\n",
        "# TODO: run tests"
      ],
      "execution_count": 14,
      "outputs": [
        {
          "output_type": "stream",
          "text": [
            "Found 2325 images belonging to 3 classes.\n",
            "(3, 3)\n",
            "(3,)\n"
          ],
          "name": "stdout"
        },
        {
          "output_type": "display_data",
          "data": {
            "image/png": "[encoded data removed]",
            "text/plain": [
              "<Figure size 432x288 with 2 Axes>"
            ]
          },
          "metadata": {
            "tags": [],
            "needs_background": "light"
          }
        },
        {
          "output_type": "stream",
          "text": [
            "Classification report\n",
            "              precision    recall  f1-score   support\n",
            "\n",
            "    covid-19       0.03      0.02      0.02        92\n",
            "      normal       0.56      0.57      0.57      1328\n",
            "   pneumonia       0.37      0.37      0.37       905\n",
            "\n",
            "    accuracy                           0.47      2325\n",
            "   macro avg       0.32      0.32      0.32      2325\n",
            "weighted avg       0.47      0.47      0.47      2325\n",
            "\n"
          ],
          "name": "stdout"
        }
      ]
    }
  ]
}